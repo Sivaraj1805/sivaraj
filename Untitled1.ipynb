{
  "nbformat": 4,
  "nbformat_minor": 0,
  "metadata": {
    "colab": {
      "provenance": [],
      "authorship_tag": "ABX9TyMHQiOsJOkm42EIyQbDYPA2",
      "include_colab_link": true
    },
    "kernelspec": {
      "name": "python3",
      "display_name": "Python 3"
    },
    "language_info": {
      "name": "python"
    }
  },
  "cells": [
    {
      "cell_type": "markdown",
      "metadata": {
        "id": "view-in-github",
        "colab_type": "text"
      },
      "source": [
        "<a href=\"https://colab.research.google.com/github/Sivaraj1805/sivaraj/blob/main/Untitled1.ipynb\" target=\"_parent\"><img src=\"https://colab.research.google.com/assets/colab-badge.svg\" alt=\"Open In Colab\"/></a>"
      ]
    },
    {
      "cell_type": "code",
      "execution_count": 2,
      "metadata": {
        "colab": {
          "base_uri": "https://localhost:8080/",
          "height": 0
        },
        "id": "bzl-YHksads4",
        "outputId": "5f02549d-2573-40fc-fbb4-11805f86ecab"
      },
      "outputs": [
        {
          "output_type": "stream",
          "name": "stdout",
          "text": [
            "Positive comments:\n",
            "He is a good boy\n",
            "He is an awesome player\n",
            "She is the best\n",
            "These burger are really nice\n",
            "\n",
            "Negative comments:\n",
            "Food is the worst here\n",
            "This pizza tastes awful\n"
          ]
        }
      ],
      "source": [
        "#1\n",
        "positive = ['good','awesome', 'best', 'nice']\n",
        "negative = ['worst','awful']\n",
        "comments = ['He is a good boy','Food is the worst here','He is an awesome player','She is the best','This pizza tastes awful','These burger are really nice']\n",
        "\n",
        "positive_comments = []\n",
        "negative_comments = []\n",
        "\n",
        "for comment in comments:\n",
        "  for word in positive:\n",
        "    if word in comment.lower():\n",
        "      positive_comments.append(comment)\n",
        "      break\n",
        "  for word in negative:\n",
        "    if word in comment.lower():\n",
        "      negative_comments.append(comment)\n",
        "      break\n",
        "\n",
        "print(\"Positive comments:\")\n",
        "print(*positive_comments, sep='\\n')\n",
        "print(\"\\nNegative comments:\")\n",
        "print(*negative_comments,sep='\\n')\n"
      ]
    },
    {
      "cell_type": "code",
      "source": [
        "#2\n",
        "dict = {\n",
        "    'Square': lambda x: x ** 2,\n",
        "    'Cube': lambda x: x ** 3,\n",
        "    'Squareroot': lambda x: x ** 0.5\n",
        "    }\n",
        "\n",
        "num = int(input('Enter a number: '))\n",
        "\n",
        "output = dict['Square'](num) + dict['Cube'](num) + dict['Squareroot'](num)\n",
        "\n",
        "print(output)"
      ],
      "metadata": {
        "colab": {
          "base_uri": "https://localhost:8080/",
          "height": 0
        },
        "id": "C5cMc03uaroW",
        "outputId": "2935e2a1-7c92-4176-8e05-cb3450338ce6"
      },
      "execution_count": 3,
      "outputs": [
        {
          "output_type": "stream",
          "name": "stdout",
          "text": [
            "Enter a number: 4\n",
            "82.0\n"
          ]
        }
      ]
    },
    {
      "cell_type": "code",
      "source": [
        "#3\n",
        "fruits = (('Lemon','sour'),\n",
        "('DragonFruit', 'Sweet'),\n",
        "('Grapes','soUr'),\n",
        "('Kiwi','Sour'),\n",
        "('Apples','sweet'),\n",
        "('Orange','sour'),\n",
        "('Blueberries','sweet'),\n",
        "('Limes','Sour')\n",
        ")\n",
        "\n",
        "sour_fruits = []\n",
        "\n",
        "for fruit in fruits:\n",
        "  if fruit[1].lower() == 'sour':\n",
        "    sour_fruits.append(fruit[0])\n",
        "\n",
        "print(\"Sour fruits:\")\n",
        "print(*sour_fruits,sep=', ')"
      ],
      "metadata": {
        "colab": {
          "base_uri": "https://localhost:8080/",
          "height": 0
        },
        "id": "gHyr6Qmact5L",
        "outputId": "ee021537-c398-49d5-a8df-23f1224ef98e"
      },
      "execution_count": 16,
      "outputs": [
        {
          "output_type": "stream",
          "name": "stdout",
          "text": [
            "Sour fruits:\n",
            "Lemon, Grapes, Kiwi, Orange, Limes\n"
          ]
        }
      ]
    },
    {
      "cell_type": "code",
      "source": [
        "#4\n",
        "ls = ['hello', 'Dear', 'hOw', 'ARe', 'You']\n",
        "\n",
        "result = []\n",
        "\n",
        "for word in ls:\n",
        "  if len(word) > 1 and word[1].isupper():\n",
        "    result.append(word)\n",
        "print(result)\n"
      ],
      "metadata": {
        "colab": {
          "base_uri": "https://localhost:8080/",
          "height": 0
        },
        "id": "pN2Q_iADc4Tk",
        "outputId": "013d1196-a7e4-466a-cbf0-67a65571a1cd"
      },
      "execution_count": 18,
      "outputs": [
        {
          "output_type": "stream",
          "name": "stdout",
          "text": [
            "['hOw', 'ARe']\n"
          ]
        }
      ]
    },
    {
      "cell_type": "code",
      "source": [
        "#5\n",
        "WeightOnEarth = {'John':45, 'Shelly':65, 'Marry':35}\n",
        "\n",
        "GMoon = 1.622\n",
        "\n",
        "GEarth = 9.81\n",
        "\n",
        "\n",
        "WeightOnMoon = \"dict\",(map(lambda x:(x[0],(x[1]*GMoon)/GEarth),WeightOnEarth.items()))\n",
        "\n",
        "\n",
        "print(\"Weight on Moon:\",weight_on_moon)\n",
        "\n",
        "\n"
      ],
      "metadata": {
        "colab": {
          "base_uri": "https://localhost:8080/",
          "height": 0
        },
        "id": "_jZQPWlRd3o7",
        "outputId": "ed6c344c-1cc6-447e-99ff-16b582c75693"
      },
      "execution_count": 49,
      "outputs": [
        {
          "output_type": "stream",
          "name": "stdout",
          "text": [
            "Weight on Moon: {'John': 7.440366972477065, 'Shelly': 10.747196738022426, 'Marry': 5.786952089704383}\n"
          ]
        }
      ]
    },
    {
      "cell_type": "code",
      "source": [
        "#6\n",
        "namesList = ['santa Maria', 'Hello World','Merry christmas', 'tHank You']\n",
        "\n",
        "result = []\n",
        "\n",
        "for name in namesList:\n",
        "  words = name.split()\n",
        "  for word in words:\n",
        "    if word[0].isupper():\n",
        "      result.append(word)\n",
        "\n",
        "print(result)\n"
      ],
      "metadata": {
        "colab": {
          "base_uri": "https://localhost:8080/",
          "height": 0
        },
        "id": "wIpGJT2seNhW",
        "outputId": "9f26c525-a8ec-4cc8-e39d-6152217948fc"
      },
      "execution_count": 24,
      "outputs": [
        {
          "output_type": "stream",
          "name": "stdout",
          "text": [
            "['Maria', 'Hello', 'World', 'Merry', 'You']\n"
          ]
        }
      ]
    },
    {
      "cell_type": "code",
      "source": [
        "#7\n",
        "from functools import reduce\n",
        "\n",
        "given_sets = [[1, 2, 3, 4, 8], [2, 3, 8, 5, 6], [8, 4, 5, 3, 7], [6, 9, 8, 3], [9, 12, 3, 7, 6, 8, 4, 6, 21, 1, 6]]\n",
        "\n",
        "sets = [set(x) for x in given_sets]\n",
        "\n",
        "result = reduce(lambda a, b: a & b, sets)\n",
        "\n",
        "print(result)"
      ],
      "metadata": {
        "colab": {
          "base_uri": "https://localhost:8080/",
          "height": 0
        },
        "id": "SuEeNqVPfG7y",
        "outputId": "20e6bba3-7e62-4d0f-cb3b-b3779a6c121d"
      },
      "execution_count": 25,
      "outputs": [
        {
          "output_type": "stream",
          "name": "stdout",
          "text": [
            "{8, 3}\n"
          ]
        }
      ]
    },
    {
      "cell_type": "code",
      "source": [
        "#8\n",
        "from itertools import accumulate\n",
        "\n",
        "lst = [9, 5, 7, 8, 5]\n",
        "\n",
        "cumulative_avg = list(accumulate(lst, lambda x, y: (x + y) / 2))\n",
        "\n",
        "print(cumulative_avg)\n"
      ],
      "metadata": {
        "colab": {
          "base_uri": "https://localhost:8080/",
          "height": 0
        },
        "id": "Tbr6auikfT66",
        "outputId": "6b42f172-ece7-4dfe-ffa8-f6cd85f90f76"
      },
      "execution_count": 26,
      "outputs": [
        {
          "output_type": "stream",
          "name": "stdout",
          "text": [
            "[9, 7.0, 7.0, 7.5, 6.25]\n"
          ]
        }
      ]
    },
    {
      "cell_type": "code",
      "source": [
        "#9\n",
        "lsbool = ['True','FALse','tRUe','tRue','False','faLse']\n",
        "\n",
        "result = list(map(lambda x: x.upper(), lsbool))\n",
        "\n",
        "print(result)\n"
      ],
      "metadata": {
        "colab": {
          "base_uri": "https://localhost:8080/",
          "height": 0
        },
        "id": "ur9Ve4C8fnP9",
        "outputId": "7157eeaa-67f2-4adc-989f-716a9ff437f1"
      },
      "execution_count": 27,
      "outputs": [
        {
          "output_type": "stream",
          "name": "stdout",
          "text": [
            "['TRUE', 'FALSE', 'TRUE', 'TRUE', 'FALSE', 'FALSE']\n"
          ]
        }
      ]
    },
    {
      "cell_type": "code",
      "source": [
        "#10\n",
        "datesList = ['17-12-1997','22-04-2011','01-05-1993','19-06-2020']\n",
        "\n",
        "years = [date.split('-')[2] for date in datesList]\n",
        "\n",
        "print(years)"
      ],
      "metadata": {
        "colab": {
          "base_uri": "https://localhost:8080/",
          "height": 0
        },
        "id": "eqcnXUVQfvX4",
        "outputId": "48cb023c-73ab-4d63-ef3f-50a62636b691"
      },
      "execution_count": 28,
      "outputs": [
        {
          "output_type": "stream",
          "name": "stdout",
          "text": [
            "['1997', '2011', '1993', '2020']\n"
          ]
        }
      ]
    }
  ]
}